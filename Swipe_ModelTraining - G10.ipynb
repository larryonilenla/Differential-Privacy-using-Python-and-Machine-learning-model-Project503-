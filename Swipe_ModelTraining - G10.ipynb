{
  "cells": [
    {
      "cell_type": "markdown",
      "metadata": {
        "id": "nDdeQb0Q7K7_"
      },
      "source": [
        "## Usefule Links:\n",
        "- Virtual environment and keras: https://www.tutorialspoint.com/keras/keras_installation.htm\n"
      ]
    },
    {
      "cell_type": "code",
      "execution_count": 32,
      "metadata": {
        "colab": {
          "base_uri": "https://localhost:8080/",
          "height": 299
        },
        "id": "tFCVTFWV7K8U",
        "outputId": "12663405-f250-488c-a58e-bf0ce11c714c"
      },
      "outputs": [
        {
          "data": {
            "text/html": [
              "<div>\n",
              "<style scoped>\n",
              "    .dataframe tbody tr th:only-of-type {\n",
              "        vertical-align: middle;\n",
              "    }\n",
              "\n",
              "    .dataframe tbody tr th {\n",
              "        vertical-align: top;\n",
              "    }\n",
              "\n",
              "    .dataframe thead th {\n",
              "        text-align: right;\n",
              "    }\n",
              "</style>\n",
              "<table border=\"1\" class=\"dataframe\">\n",
              "  <thead>\n",
              "    <tr style=\"text-align: right;\">\n",
              "      <th></th>\n",
              "      <th>1</th>\n",
              "      <th>2</th>\n",
              "      <th>3</th>\n",
              "      <th>4</th>\n",
              "      <th>5</th>\n",
              "      <th>6</th>\n",
              "      <th>7</th>\n",
              "      <th>8</th>\n",
              "      <th>9</th>\n",
              "      <th>10</th>\n",
              "      <th>...</th>\n",
              "      <th>25</th>\n",
              "      <th>26</th>\n",
              "      <th>27</th>\n",
              "      <th>28</th>\n",
              "      <th>29</th>\n",
              "      <th>30</th>\n",
              "      <th>31</th>\n",
              "      <th>32</th>\n",
              "      <th>33</th>\n",
              "      <th>Label</th>\n",
              "    </tr>\n",
              "  </thead>\n",
              "  <tbody>\n",
              "    <tr>\n",
              "      <th>0</th>\n",
              "      <td>0.052478</td>\n",
              "      <td>0.277631</td>\n",
              "      <td>0.451259</td>\n",
              "      <td>0.718039</td>\n",
              "      <td>0.462785</td>\n",
              "      <td>0.0</td>\n",
              "      <td>0.0</td>\n",
              "      <td>0.018702</td>\n",
              "      <td>0.167556</td>\n",
              "      <td>-0.021220</td>\n",
              "      <td>...</td>\n",
              "      <td>-0.000286</td>\n",
              "      <td>0.006156</td>\n",
              "      <td>0.000038</td>\n",
              "      <td>0.098039</td>\n",
              "      <td>0.175416</td>\n",
              "      <td>0.183196</td>\n",
              "      <td>0.083857</td>\n",
              "      <td>0.007032</td>\n",
              "      <td>0.183644</td>\n",
              "      <td>0</td>\n",
              "    </tr>\n",
              "    <tr>\n",
              "      <th>1</th>\n",
              "      <td>0.052112</td>\n",
              "      <td>0.329417</td>\n",
              "      <td>0.456423</td>\n",
              "      <td>0.707689</td>\n",
              "      <td>0.431129</td>\n",
              "      <td>0.0</td>\n",
              "      <td>0.0</td>\n",
              "      <td>0.018824</td>\n",
              "      <td>0.188321</td>\n",
              "      <td>-0.046427</td>\n",
              "      <td>...</td>\n",
              "      <td>-0.001681</td>\n",
              "      <td>0.006563</td>\n",
              "      <td>0.000043</td>\n",
              "      <td>0.172549</td>\n",
              "      <td>0.161923</td>\n",
              "      <td>0.174437</td>\n",
              "      <td>0.012390</td>\n",
              "      <td>0.000154</td>\n",
              "      <td>0.172166</td>\n",
              "      <td>0</td>\n",
              "    </tr>\n",
              "    <tr>\n",
              "      <th>2</th>\n",
              "      <td>0.044798</td>\n",
              "      <td>0.246703</td>\n",
              "      <td>0.482247</td>\n",
              "      <td>0.682013</td>\n",
              "      <td>0.413386</td>\n",
              "      <td>0.0</td>\n",
              "      <td>0.0</td>\n",
              "      <td>0.023549</td>\n",
              "      <td>0.219466</td>\n",
              "      <td>-0.084152</td>\n",
              "      <td>...</td>\n",
              "      <td>-0.003980</td>\n",
              "      <td>0.007612</td>\n",
              "      <td>0.000058</td>\n",
              "      <td>0.172549</td>\n",
              "      <td>0.165296</td>\n",
              "      <td>0.176905</td>\n",
              "      <td>0.015824</td>\n",
              "      <td>0.000250</td>\n",
              "      <td>0.179818</td>\n",
              "      <td>0</td>\n",
              "    </tr>\n",
              "    <tr>\n",
              "      <th>3</th>\n",
              "      <td>0.050101</td>\n",
              "      <td>0.292016</td>\n",
              "      <td>0.470626</td>\n",
              "      <td>0.711022</td>\n",
              "      <td>0.418269</td>\n",
              "      <td>0.0</td>\n",
              "      <td>0.0</td>\n",
              "      <td>0.019350</td>\n",
              "      <td>0.182533</td>\n",
              "      <td>-0.089321</td>\n",
              "      <td>...</td>\n",
              "      <td>0.000438</td>\n",
              "      <td>0.009006</td>\n",
              "      <td>0.000081</td>\n",
              "      <td>0.149020</td>\n",
              "      <td>0.165296</td>\n",
              "      <td>0.178174</td>\n",
              "      <td>0.036672</td>\n",
              "      <td>0.001343</td>\n",
              "      <td>0.183644</td>\n",
              "      <td>0</td>\n",
              "    </tr>\n",
              "    <tr>\n",
              "      <th>4</th>\n",
              "      <td>0.048638</td>\n",
              "      <td>0.282665</td>\n",
              "      <td>0.438347</td>\n",
              "      <td>0.712347</td>\n",
              "      <td>0.447676</td>\n",
              "      <td>0.0</td>\n",
              "      <td>0.0</td>\n",
              "      <td>0.023968</td>\n",
              "      <td>0.151995</td>\n",
              "      <td>-0.024688</td>\n",
              "      <td>...</td>\n",
              "      <td>-0.001410</td>\n",
              "      <td>0.007316</td>\n",
              "      <td>0.000054</td>\n",
              "      <td>0.125490</td>\n",
              "      <td>0.175416</td>\n",
              "      <td>0.184353</td>\n",
              "      <td>0.061493</td>\n",
              "      <td>0.003786</td>\n",
              "      <td>0.183644</td>\n",
              "      <td>0</td>\n",
              "    </tr>\n",
              "  </tbody>\n",
              "</table>\n",
              "<p>5 rows × 34 columns</p>\n",
              "</div>"
            ],
            "text/plain": [
              "          1         2         3         4         5    6    7         8  \\\n",
              "0  0.052478  0.277631  0.451259  0.718039  0.462785  0.0  0.0  0.018702   \n",
              "1  0.052112  0.329417  0.456423  0.707689  0.431129  0.0  0.0  0.018824   \n",
              "2  0.044798  0.246703  0.482247  0.682013  0.413386  0.0  0.0  0.023549   \n",
              "3  0.050101  0.292016  0.470626  0.711022  0.418269  0.0  0.0  0.019350   \n",
              "4  0.048638  0.282665  0.438347  0.712347  0.447676  0.0  0.0  0.023968   \n",
              "\n",
              "          9        10  ...        25        26        27        28        29  \\\n",
              "0  0.167556 -0.021220  ... -0.000286  0.006156  0.000038  0.098039  0.175416   \n",
              "1  0.188321 -0.046427  ... -0.001681  0.006563  0.000043  0.172549  0.161923   \n",
              "2  0.219466 -0.084152  ... -0.003980  0.007612  0.000058  0.172549  0.165296   \n",
              "3  0.182533 -0.089321  ...  0.000438  0.009006  0.000081  0.149020  0.165296   \n",
              "4  0.151995 -0.024688  ... -0.001410  0.007316  0.000054  0.125490  0.175416   \n",
              "\n",
              "         30        31        32        33  Label  \n",
              "0  0.183196  0.083857  0.007032  0.183644      0  \n",
              "1  0.174437  0.012390  0.000154  0.172166      0  \n",
              "2  0.176905  0.015824  0.000250  0.179818      0  \n",
              "3  0.178174  0.036672  0.001343  0.183644      0  \n",
              "4  0.184353  0.061493  0.003786  0.183644      0  \n",
              "\n",
              "[5 rows x 34 columns]"
            ]
          },
          "execution_count": 32,
          "metadata": {},
          "output_type": "execute_result"
        }
      ],
      "source": [
        "#Read all data\n",
        "import csv\n",
        "import pandas as pd\n",
        "dataset=pd.read_csv('OversampledSwipeData.csv',index_col=0)\n",
        "dataset.head()"
      ]
    },
    {
      "cell_type": "code",
      "execution_count": 33,
      "metadata": {
        "colab": {
          "base_uri": "https://localhost:8080/"
        },
        "id": "VJ6zCcRoJBSj",
        "outputId": "3b5c9651-2166-4ad0-de1d-82bf7d1e0877"
      },
      "outputs": [
        {
          "data": {
            "text/plain": [
              "(25800, 34)"
            ]
          },
          "execution_count": 33,
          "metadata": {},
          "output_type": "execute_result"
        }
      ],
      "source": [
        "dataset.shape"
      ]
    },
    {
      "cell_type": "code",
      "execution_count": 34,
      "metadata": {
        "colab": {
          "base_uri": "https://localhost:8080/"
        },
        "id": "vtcvPN1l7K8h",
        "outputId": "c5e94289-305a-42be-8833-cea464d447ee"
      },
      "outputs": [
        {
          "data": {
            "text/plain": [
              "Label\n",
              "0     300\n",
              "1     300\n",
              "2     300\n",
              "3     300\n",
              "4     300\n",
              "     ... \n",
              "81    300\n",
              "82    300\n",
              "83    300\n",
              "84    300\n",
              "85    300\n",
              "Name: Label, Length: 86, dtype: int64"
            ]
          },
          "execution_count": 34,
          "metadata": {},
          "output_type": "execute_result"
        }
      ],
      "source": [
        "#replace the user ID by class name and count the number of sample in each class\n",
        "#dataset['Label'] = pd.factorize(dataset['Label'])[0]\n",
        "dataset.groupby(['Label'])['Label'].count()"
      ]
    },
    {
      "cell_type": "code",
      "execution_count": 35,
      "metadata": {
        "colab": {
          "base_uri": "https://localhost:8080/"
        },
        "id": "ffvTQtrH7K8o",
        "outputId": "a2428e7b-1030-4d06-c93d-469d78d3b4c6"
      },
      "outputs": [
        {
          "name": "stdout",
          "output_type": "stream",
          "text": [
            "Total user in training dataset: 68\n",
            "Total user in auxiliary dataset: 18\n"
          ]
        }
      ],
      "source": [
        "#seperate the profile in two groups: (i) Training profile (0-67) 80.0\\%, and (ii) auxiliary profile (68-85) 20.0%\n",
        "totalUser= len(pd.unique(dataset['Label']))\n",
        "trainingData = dataset[dataset['Label'] < 68]\n",
        "auxilaryData = dataset[dataset['Label'] >= 68]\n",
        "print(\"Total user in training dataset:\", len(pd.unique(trainingData['Label'])))\n",
        "print(\"Total user in auxiliary dataset:\", len(pd.unique(auxilaryData['Label'])))"
      ]
    },
    {
      "cell_type": "code",
      "execution_count": 36,
      "metadata": {
        "id": "Z1iZ-P0c7K8s"
      },
      "outputs": [],
      "source": [
        "#Prepare the traning data for training and testing the model\n",
        "import tensorflow\n",
        "from sklearn.model_selection import train_test_split\n",
        "from keras.utils import to_categorical\n",
        "\n",
        "X=trainingData.drop(columns=['Label'])\n",
        "y=trainingData['Label']\n",
        "\n",
        "Xtrain, Xval, ytrain, yval = train_test_split(X, y, test_size=0.2, random_state=22)\n",
        "#Xtrain, Xval, ytrain, yval = train_test_split(Xtrain, ytrain, test_size=0.2, random_state=22)\n",
        "\n",
        "ytrain = to_categorical(ytrain)\n",
        "yval = to_categorical(yval)\n",
        "#ytest = to_categorical(ytest)"
      ]
    },
    {
      "cell_type": "code",
      "execution_count": 37,
      "metadata": {
        "colab": {
          "base_uri": "https://localhost:8080/"
        },
        "id": "RR_H8-nz7K8v",
        "outputId": "1a368f4d-76be-4b8a-8451-618f9b37ea46"
      },
      "outputs": [
        {
          "name": "stdout",
          "output_type": "stream",
          "text": [
            "(16320, 33)\n",
            "(16320, 68)\n",
            "(4080, 33)\n",
            "(4080, 68)\n"
          ]
        }
      ],
      "source": [
        "print(Xtrain.shape)\n",
        "print(ytrain.shape)\n",
        "print(Xval.shape)\n",
        "print(yval.shape)\n",
        "#print(Xtest.shape)\n",
        "#print(ytest.shape)"
      ]
    },
    {
      "cell_type": "code",
      "execution_count": 38,
      "metadata": {
        "id": "mFKXheCd7K9r"
      },
      "outputs": [],
      "source": [
        "# import all necessary package for a neural network\n",
        "import numpy as np\n",
        "import pandas as pd\n",
        "import matplotlib.pyplot as plt\n",
        "#matplotlib inlineimport keras\n",
        "from keras.layers import Dense, Dropout, Input,Activation,Dropout, Flatten\n",
        "from keras.models import Model,Sequential\n",
        "from keras.datasets import mnist\n",
        "#from tqdm import tqdm\n",
        "#from keras.layers.advanced_activations import LeakyReLU\n",
        "from keras.layers import BatchNormalization\n",
        "from keras.optimizers import Adam\n",
        "#import torch.nn.functional as F"
      ]
    },
    {
      "cell_type": "code",
      "execution_count": 39,
      "metadata": {
        "id": "vQeWRxpf7K93"
      },
      "outputs": [],
      "source": [
        "#define optimizers for neural network\n",
        "from keras.optimizers import SGD, RMSprop, Adam\n",
        "def adam_optimizer():\n",
        "    return Adam(lr=0.0002, beta_1=0.5)\n",
        "\n",
        "def RMSprop_optimizer():\n",
        "    return RMSprop(lr=0.001, rho=0.9)"
      ]
    },
    {
      "cell_type": "code",
      "execution_count": 40,
      "metadata": {
        "colab": {
          "base_uri": "https://localhost:8080/"
        },
        "id": "bpyiok1O7K96",
        "outputId": "df7f7cc0-ce69-48ec-de0e-b7dbb6d7d438"
      },
      "outputs": [
        {
          "name": "stdout",
          "output_type": "stream",
          "text": [
            "Model: \"sequential_9\"\n",
            "_________________________________________________________________\n",
            " Layer (type)                Output Shape              Param #   \n",
            "=================================================================\n",
            " dense_50 (Dense)            (None, 128)               4352      \n",
            "                                                                 \n",
            " batch_normalization_41 (Bat  (None, 128)              512       \n",
            " chNormalization)                                                \n",
            "                                                                 \n",
            " activation_41 (Activation)  (None, 128)               0         \n",
            "                                                                 \n",
            " dropout_20 (Dropout)        (None, 128)               0         \n",
            "                                                                 \n",
            " dense_51 (Dense)            (None, 256)               33024     \n",
            "                                                                 \n",
            " batch_normalization_42 (Bat  (None, 256)              1024      \n",
            " chNormalization)                                                \n",
            "                                                                 \n",
            " activation_42 (Activation)  (None, 256)               0         \n",
            "                                                                 \n",
            " dropout_21 (Dropout)        (None, 256)               0         \n",
            "                                                                 \n",
            " dense_52 (Dense)            (None, 512)               131584    \n",
            "                                                                 \n",
            " batch_normalization_43 (Bat  (None, 512)              2048      \n",
            " chNormalization)                                                \n",
            "                                                                 \n",
            " activation_43 (Activation)  (None, 512)               0         \n",
            "                                                                 \n",
            " dropout_22 (Dropout)        (None, 512)               0         \n",
            "                                                                 \n",
            " dense_53 (Dense)            (None, 256)               131328    \n",
            "                                                                 \n",
            " batch_normalization_44 (Bat  (None, 256)              1024      \n",
            " chNormalization)                                                \n",
            "                                                                 \n",
            " activation_44 (Activation)  (None, 256)               0         \n",
            "                                                                 \n",
            " dropout_23 (Dropout)        (None, 256)               0         \n",
            "                                                                 \n",
            " dense_54 (Dense)            (None, 128)               32896     \n",
            "                                                                 \n",
            " batch_normalization_45 (Bat  (None, 128)              512       \n",
            " chNormalization)                                                \n",
            "                                                                 \n",
            " activation_45 (Activation)  (None, 128)               0         \n",
            "                                                                 \n",
            " dropout_24 (Dropout)        (None, 128)               0         \n",
            "                                                                 \n",
            " dense_55 (Dense)            (None, 68)                8772      \n",
            "                                                                 \n",
            "=================================================================\n",
            "Total params: 347,076\n",
            "Trainable params: 344,516\n",
            "Non-trainable params: 2,560\n",
            "_________________________________________________________________\n"
          ]
        },
        {
          "name": "stderr",
          "output_type": "stream",
          "text": [
            "c:\\Users\\mdmor\\OneDrive\\Documents\\GitHub\\ModelDataProtection\\.venv\\Lib\\site-packages\\keras\\optimizers\\legacy\\rmsprop.py:143: UserWarning: The `lr` argument is deprecated, use `learning_rate` instead.\n",
            "  super().__init__(name, **kwargs)\n"
          ]
        }
      ],
      "source": [
        "#neural network architecture for model training\n",
        "\n",
        "def create_classifier(release=False,totalClass=68):\n",
        "  classifier = Sequential()\n",
        "  classifier.add(Dense(128, input_dim=33))\n",
        "  classifier.add(BatchNormalization())\n",
        "  classifier.add(Activation('relu'))\n",
        "  classifier.add(Dropout(0.1))\n",
        "\n",
        "  #classifier.add(Dense(256))\n",
        "  #classifier.add(BatchNormalization())\n",
        "  #classifier.add(Activation('relu'))\n",
        "\n",
        "  classifier.add(Dense(256))\n",
        "  classifier.add(BatchNormalization())\n",
        "  classifier.add(Activation('relu'))\n",
        "  classifier.add(Dropout(0.1))\n",
        "\n",
        "  classifier.add(Dense(512))\n",
        "  classifier.add(BatchNormalization())\n",
        "  classifier.add(Activation('relu'))\n",
        "  classifier.add(Dropout(0.1))\n",
        "\n",
        "  classifier.add(Dense(256))\n",
        "  classifier.add(BatchNormalization())\n",
        "  classifier.add(Activation('relu'))\n",
        "  classifier.add(Dropout(0.1))\n",
        "\n",
        "  classifier.add(Dense(128))\n",
        "  classifier.add(BatchNormalization())\n",
        "  classifier.add(Activation('relu'))\n",
        "  classifier.add(Dropout(0.1))\n",
        "\n",
        "  #if release:\n",
        "  classifier.add(Dense(totalClass, activation='softmax'))\n",
        "  #else:\n",
        "  #   classifier.add(Dense(Tuser))\n",
        "  #np.log_softmax_v2(a, axis=axis)\n",
        "  #classifier.add(F.softmax(a, dim=1))\n",
        "\n",
        "  classifier.compile(loss='categorical_crossentropy', optimizer=RMSprop_optimizer(),metrics=['accuracy'])\n",
        "  return classifier\n",
        "\n",
        "Clasf=create_classifier()\n",
        "Clasf.summary()"
      ]
    },
    {
      "cell_type": "code",
      "execution_count": 41,
      "metadata": {
        "colab": {
          "base_uri": "https://localhost:8080/"
        },
        "id": "Eg9_dAIv7K-D",
        "outputId": "06df0b30-c9f8-4156-bbbe-32603a5cbaae"
      },
      "outputs": [
        {
          "name": "stdout",
          "output_type": "stream",
          "text": [
            "Epoch 1/50\n",
            "255/255 [==============================] - 6s 11ms/step - loss: 1.8005 - accuracy: 0.5104 - val_loss: 3.3209 - val_accuracy: 0.1444 - lr: 0.0010\n",
            "Epoch 2/50\n",
            "255/255 [==============================] - 2s 10ms/step - loss: 0.9453 - accuracy: 0.6971 - val_loss: 0.9957 - val_accuracy: 0.6657 - lr: 0.0010\n",
            "Epoch 3/50\n",
            "255/255 [==============================] - 2s 10ms/step - loss: 0.7727 - accuracy: 0.7456 - val_loss: 0.6005 - val_accuracy: 0.8015 - lr: 0.0010\n",
            "Epoch 4/50\n",
            "255/255 [==============================] - 2s 10ms/step - loss: 0.6975 - accuracy: 0.7657 - val_loss: 0.5262 - val_accuracy: 0.8152 - lr: 0.0010\n",
            "Epoch 5/50\n",
            "255/255 [==============================] - 2s 9ms/step - loss: 0.6432 - accuracy: 0.7842 - val_loss: 0.5077 - val_accuracy: 0.8211 - lr: 0.0010\n",
            "Epoch 6/50\n",
            "255/255 [==============================] - 2s 10ms/step - loss: 0.6122 - accuracy: 0.7940 - val_loss: 0.4478 - val_accuracy: 0.8471 - lr: 0.0010\n",
            "Epoch 7/50\n",
            "255/255 [==============================] - 2s 10ms/step - loss: 0.5580 - accuracy: 0.8107 - val_loss: 0.4318 - val_accuracy: 0.8461 - lr: 0.0010\n",
            "Epoch 8/50\n",
            "255/255 [==============================] - 2s 10ms/step - loss: 0.5475 - accuracy: 0.8140 - val_loss: 0.4203 - val_accuracy: 0.8583 - lr: 0.0010\n",
            "Epoch 9/50\n",
            "255/255 [==============================] - 2s 10ms/step - loss: 0.5165 - accuracy: 0.8268 - val_loss: 0.3626 - val_accuracy: 0.8745 - lr: 0.0010\n",
            "Epoch 10/50\n",
            "255/255 [==============================] - 3s 10ms/step - loss: 0.4951 - accuracy: 0.8307 - val_loss: 0.3512 - val_accuracy: 0.8833 - lr: 0.0010\n",
            "Epoch 11/50\n",
            "255/255 [==============================] - 2s 10ms/step - loss: 0.4704 - accuracy: 0.8419 - val_loss: 0.3607 - val_accuracy: 0.8833 - lr: 0.0010\n",
            "Epoch 12/50\n",
            "255/255 [==============================] - 2s 9ms/step - loss: 0.4567 - accuracy: 0.8428 - val_loss: 0.3420 - val_accuracy: 0.8821 - lr: 0.0010\n",
            "Epoch 13/50\n",
            "255/255 [==============================] - 2s 9ms/step - loss: 0.4314 - accuracy: 0.8517 - val_loss: 0.3471 - val_accuracy: 0.8797 - lr: 0.0010\n",
            "Epoch 14/50\n",
            "255/255 [==============================] - 2s 9ms/step - loss: 0.4206 - accuracy: 0.8586 - val_loss: 0.3678 - val_accuracy: 0.8618 - lr: 0.0010\n",
            "Epoch 15/50\n",
            "255/255 [==============================] - 2s 9ms/step - loss: 0.4013 - accuracy: 0.8627 - val_loss: 0.3140 - val_accuracy: 0.8882 - lr: 0.0010\n",
            "Epoch 16/50\n",
            "255/255 [==============================] - 3s 13ms/step - loss: 0.4073 - accuracy: 0.8618 - val_loss: 0.3016 - val_accuracy: 0.8968 - lr: 0.0010\n",
            "Epoch 17/50\n",
            "255/255 [==============================] - 3s 11ms/step - loss: 0.3890 - accuracy: 0.8632 - val_loss: 0.2980 - val_accuracy: 0.8978 - lr: 0.0010\n",
            "Epoch 18/50\n",
            "255/255 [==============================] - 4s 15ms/step - loss: 0.3825 - accuracy: 0.8680 - val_loss: 0.2615 - val_accuracy: 0.9125 - lr: 0.0010\n",
            "Epoch 19/50\n",
            "255/255 [==============================] - 4s 15ms/step - loss: 0.3724 - accuracy: 0.8709 - val_loss: 0.2971 - val_accuracy: 0.8966 - lr: 0.0010\n",
            "Epoch 20/50\n",
            "255/255 [==============================] - 4s 16ms/step - loss: 0.3592 - accuracy: 0.8767 - val_loss: 0.2944 - val_accuracy: 0.8985 - lr: 0.0010\n",
            "Epoch 21/50\n",
            "255/255 [==============================] - 4s 15ms/step - loss: 0.3513 - accuracy: 0.8771 - val_loss: 0.3045 - val_accuracy: 0.8902 - lr: 0.0010\n",
            "Epoch 22/50\n",
            "255/255 [==============================] - 4s 14ms/step - loss: 0.3491 - accuracy: 0.8770 - val_loss: 0.2474 - val_accuracy: 0.9100 - lr: 0.0010\n",
            "Epoch 23/50\n",
            "251/255 [============================>.] - ETA: 0s - loss: 0.3365 - accuracy: 0.8833\n",
            "Epoch 23: ReduceLROnPlateau reducing learning rate to 0.0005000000237487257.\n",
            "255/255 [==============================] - 3s 14ms/step - loss: 0.3357 - accuracy: 0.8836 - val_loss: 0.2887 - val_accuracy: 0.9066 - lr: 0.0010\n",
            "Epoch 24/50\n",
            "255/255 [==============================] - 3s 13ms/step - loss: 0.2835 - accuracy: 0.9005 - val_loss: 0.1905 - val_accuracy: 0.9402 - lr: 5.0000e-04\n",
            "Epoch 25/50\n",
            "255/255 [==============================] - 4s 17ms/step - loss: 0.2686 - accuracy: 0.9058 - val_loss: 0.1880 - val_accuracy: 0.9377 - lr: 5.0000e-04\n",
            "Epoch 26/50\n",
            "255/255 [==============================] - 4s 16ms/step - loss: 0.2580 - accuracy: 0.9091 - val_loss: 0.1791 - val_accuracy: 0.9392 - lr: 5.0000e-04\n",
            "Epoch 27/50\n",
            "255/255 [==============================] - 4s 17ms/step - loss: 0.2544 - accuracy: 0.9111 - val_loss: 0.1805 - val_accuracy: 0.9397 - lr: 5.0000e-04\n",
            "Epoch 28/50\n",
            "255/255 [==============================] - 5s 20ms/step - loss: 0.2636 - accuracy: 0.9072 - val_loss: 0.1695 - val_accuracy: 0.9431 - lr: 5.0000e-04\n",
            "Epoch 29/50\n",
            "255/255 [==============================] - 5s 20ms/step - loss: 0.2493 - accuracy: 0.9121 - val_loss: 0.1923 - val_accuracy: 0.9368 - lr: 5.0000e-04\n",
            "Epoch 30/50\n",
            "255/255 [==============================] - 5s 19ms/step - loss: 0.2511 - accuracy: 0.9114 - val_loss: 0.1633 - val_accuracy: 0.9453 - lr: 5.0000e-04\n",
            "Epoch 31/50\n",
            "255/255 [==============================] - 4s 16ms/step - loss: 0.2449 - accuracy: 0.9121 - val_loss: 0.1794 - val_accuracy: 0.9373 - lr: 5.0000e-04\n",
            "Epoch 32/50\n",
            "255/255 [==============================] - 5s 20ms/step - loss: 0.2408 - accuracy: 0.9135 - val_loss: 0.1750 - val_accuracy: 0.9419 - lr: 5.0000e-04\n",
            "Epoch 33/50\n",
            "255/255 [==============================] - 5s 18ms/step - loss: 0.2477 - accuracy: 0.9104 - val_loss: 0.1719 - val_accuracy: 0.9417 - lr: 5.0000e-04\n",
            "Epoch 34/50\n",
            "255/255 [==============================] - 4s 17ms/step - loss: 0.2399 - accuracy: 0.9133 - val_loss: 0.1783 - val_accuracy: 0.9387 - lr: 5.0000e-04\n",
            "Epoch 35/50\n",
            "252/255 [============================>.] - ETA: 0s - loss: 0.2352 - accuracy: 0.9177\n",
            "Epoch 35: ReduceLROnPlateau reducing learning rate to 0.0002500000118743628.\n",
            "255/255 [==============================] - 5s 18ms/step - loss: 0.2363 - accuracy: 0.9170 - val_loss: 0.1561 - val_accuracy: 0.9453 - lr: 5.0000e-04\n",
            "Epoch 36/50\n",
            "255/255 [==============================] - 5s 18ms/step - loss: 0.2175 - accuracy: 0.9220 - val_loss: 0.1458 - val_accuracy: 0.9537 - lr: 2.5000e-04\n",
            "Epoch 37/50\n",
            "255/255 [==============================] - 5s 18ms/step - loss: 0.2026 - accuracy: 0.9297 - val_loss: 0.1431 - val_accuracy: 0.9544 - lr: 2.5000e-04\n",
            "Epoch 38/50\n",
            "255/255 [==============================] - 5s 18ms/step - loss: 0.2080 - accuracy: 0.9259 - val_loss: 0.1359 - val_accuracy: 0.9539 - lr: 2.5000e-04\n",
            "Epoch 39/50\n",
            "255/255 [==============================] - 5s 18ms/step - loss: 0.1986 - accuracy: 0.9290 - val_loss: 0.1308 - val_accuracy: 0.9559 - lr: 2.5000e-04\n",
            "Epoch 40/50\n",
            "255/255 [==============================] - 4s 16ms/step - loss: 0.1992 - accuracy: 0.9306 - val_loss: 0.1382 - val_accuracy: 0.9537 - lr: 2.5000e-04\n",
            "Epoch 41/50\n",
            "255/255 [==============================] - 5s 19ms/step - loss: 0.1899 - accuracy: 0.9322 - val_loss: 0.1344 - val_accuracy: 0.9537 - lr: 2.5000e-04\n",
            "Epoch 42/50\n",
            "255/255 [==============================] - 5s 18ms/step - loss: 0.1918 - accuracy: 0.9319 - val_loss: 0.1335 - val_accuracy: 0.9510 - lr: 2.5000e-04\n",
            "Epoch 43/50\n",
            "255/255 [==============================] - 5s 18ms/step - loss: 0.1876 - accuracy: 0.9345 - val_loss: 0.1273 - val_accuracy: 0.9581 - lr: 2.5000e-04\n",
            "Epoch 44/50\n",
            "255/255 [==============================] - 5s 19ms/step - loss: 0.1886 - accuracy: 0.9325 - val_loss: 0.1247 - val_accuracy: 0.9571 - lr: 2.5000e-04\n",
            "Epoch 45/50\n",
            "255/255 [==============================] - 5s 18ms/step - loss: 0.1924 - accuracy: 0.9298 - val_loss: 0.1301 - val_accuracy: 0.9605 - lr: 2.5000e-04\n",
            "Epoch 46/50\n",
            "255/255 [==============================] - 5s 18ms/step - loss: 0.1867 - accuracy: 0.9333 - val_loss: 0.1395 - val_accuracy: 0.9556 - lr: 2.5000e-04\n",
            "Epoch 47/50\n",
            "255/255 [==============================] - 5s 19ms/step - loss: 0.1881 - accuracy: 0.9330 - val_loss: 0.1319 - val_accuracy: 0.9586 - lr: 2.5000e-04\n",
            "Epoch 48/50\n",
            "255/255 [==============================] - 5s 19ms/step - loss: 0.1838 - accuracy: 0.9336 - val_loss: 0.1263 - val_accuracy: 0.9564 - lr: 2.5000e-04\n",
            "Epoch 49/50\n",
            "255/255 [==============================] - 4s 18ms/step - loss: 0.1822 - accuracy: 0.9357 - val_loss: 0.1288 - val_accuracy: 0.9576 - lr: 2.5000e-04\n",
            "Epoch 50/50\n",
            "254/255 [============================>.] - ETA: 0s - loss: 0.1819 - accuracy: 0.9358\n",
            "Epoch 50: ReduceLROnPlateau reducing learning rate to 0.0001250000059371814.\n",
            "255/255 [==============================] - 5s 18ms/step - loss: 0.1818 - accuracy: 0.9358 - val_loss: 0.1185 - val_accuracy: 0.9600 - lr: 2.5000e-04\n"
          ]
        }
      ],
      "source": [
        "#Train the classifier seperately for black-box attack\n",
        "import keras\n",
        "\n",
        "from keras.datasets import mnist\n",
        "from keras.models import Model\n",
        "from keras.layers import Input, Conv2D, MaxPooling2D, Flatten, Dense, UpSampling2D\n",
        "from keras.optimizers import SGD, RMSprop, Adam\n",
        "from keras.callbacks import ReduceLROnPlateau\n",
        "\n",
        "\n",
        "learning_rate_reduction = ReduceLROnPlateau(monitor='val_accuracy', patience=5, verbose=1, factor=0.5,min_lr=0.0001)\n",
        "callbacks_list = [learning_rate_reduction]\n",
        "\n",
        "Classfier2= create_classifier(True,68)\n",
        "\n",
        "#------Comment will start from here\n",
        "lossc='categorical_crossentropy'\n",
        "#optimizerc=RMSprop(learning_rate=0.0001, rho=0.9)\n",
        "optimizerc=Adam(learning_rate=0.001)\n",
        "Classfier2.compile(loss=lossc, optimizer=optimizerc,metrics=['accuracy'])\n",
        "#------Comments will end from here\n",
        "historyc2 =  Classfier2.fit(Xtrain, ytrain, batch_size=64, epochs=50, validation_data=(Xval, yval),verbose=1, callbacks=callbacks_list)"
      ]
    },
    {
      "cell_type": "code",
      "execution_count": 42,
      "metadata": {
        "colab": {
          "base_uri": "https://localhost:8080/",
          "height": 467
        },
        "id": "oLCDk2Rl7K-Z",
        "outputId": "86033674-222d-48e5-d1de-ca52f16fe374"
      },
      "outputs": [
        {
          "data": {
            "text/plain": [
              "Text(0.5, 0, 'epochs')"
            ]
          },
          "execution_count": 42,
          "metadata": {},
          "output_type": "execute_result"
        },
        {
          "data": {
            "image/png": "[encoded data removed]",
            "text/plain": [
              "<Figure size 640x480 with 1 Axes>"
            ]
          },
          "metadata": {},
          "output_type": "display_data"
        }
      ],
      "source": [
        "# Plot the classifier loss and accuracy curves for training and validation data\n",
        "import matplotlib.pyplot as plt\n",
        "plt.plot(historyc2.history['accuracy'], color='b', label=\"Training accuracy\")\n",
        "plt.plot(historyc2.history['val_accuracy'], color='r',label=\"Validation accuracy\")\n",
        "legend = plt.legend(loc='best', shadow=True)\n",
        "plt.ylabel('accuracy')\n",
        "plt.xlabel('epochs')"
      ]
    },
    {
      "cell_type": "code",
      "execution_count": 43,
      "metadata": {},
      "outputs": [
        {
          "data": {
            "text/html": [
              "<div>\n",
              "<style scoped>\n",
              "    .dataframe tbody tr th:only-of-type {\n",
              "        vertical-align: middle;\n",
              "    }\n",
              "\n",
              "    .dataframe tbody tr th {\n",
              "        vertical-align: top;\n",
              "    }\n",
              "\n",
              "    .dataframe thead th {\n",
              "        text-align: right;\n",
              "    }\n",
              "</style>\n",
              "<table border=\"1\" class=\"dataframe\">\n",
              "  <thead>\n",
              "    <tr style=\"text-align: right;\">\n",
              "      <th></th>\n",
              "      <th>1</th>\n",
              "      <th>2</th>\n",
              "      <th>3</th>\n",
              "      <th>4</th>\n",
              "      <th>5</th>\n",
              "      <th>6</th>\n",
              "      <th>7</th>\n",
              "      <th>8</th>\n",
              "      <th>9</th>\n",
              "      <th>10</th>\n",
              "      <th>...</th>\n",
              "      <th>25</th>\n",
              "      <th>26</th>\n",
              "      <th>27</th>\n",
              "      <th>28</th>\n",
              "      <th>29</th>\n",
              "      <th>30</th>\n",
              "      <th>31</th>\n",
              "      <th>32</th>\n",
              "      <th>33</th>\n",
              "      <th>Label</th>\n",
              "    </tr>\n",
              "  </thead>\n",
              "  <tbody>\n",
              "    <tr>\n",
              "      <th>2595</th>\n",
              "      <td>0.042055</td>\n",
              "      <td>0.373291</td>\n",
              "      <td>0.462234</td>\n",
              "      <td>0.672240</td>\n",
              "      <td>0.460185</td>\n",
              "      <td>0.000000</td>\n",
              "      <td>0.000000</td>\n",
              "      <td>0.007363</td>\n",
              "      <td>0.181142</td>\n",
              "      <td>-0.057993</td>\n",
              "      <td>...</td>\n",
              "      <td>0.000146</td>\n",
              "      <td>0.017546</td>\n",
              "      <td>0.000308</td>\n",
              "      <td>0.176471</td>\n",
              "      <td>0.182163</td>\n",
              "      <td>0.180288</td>\n",
              "      <td>0.031583</td>\n",
              "      <td>0.000997</td>\n",
              "      <td>0.187470</td>\n",
              "      <td>21</td>\n",
              "    </tr>\n",
              "    <tr>\n",
              "      <th>3984</th>\n",
              "      <td>0.038581</td>\n",
              "      <td>0.480622</td>\n",
              "      <td>0.728615</td>\n",
              "      <td>0.953126</td>\n",
              "      <td>0.664928</td>\n",
              "      <td>0.034667</td>\n",
              "      <td>0.024510</td>\n",
              "      <td>0.003954</td>\n",
              "      <td>0.307242</td>\n",
              "      <td>-0.252209</td>\n",
              "      <td>...</td>\n",
              "      <td>-0.022077</td>\n",
              "      <td>0.034743</td>\n",
              "      <td>0.001207</td>\n",
              "      <td>1.000000</td>\n",
              "      <td>0.860215</td>\n",
              "      <td>0.943739</td>\n",
              "      <td>0.000000</td>\n",
              "      <td>0.000000</td>\n",
              "      <td>0.975610</td>\n",
              "      <td>33</td>\n",
              "    </tr>\n",
              "    <tr>\n",
              "      <th>6137</th>\n",
              "      <td>0.068385</td>\n",
              "      <td>0.357468</td>\n",
              "      <td>0.628147</td>\n",
              "      <td>0.658977</td>\n",
              "      <td>0.675978</td>\n",
              "      <td>0.045326</td>\n",
              "      <td>0.029412</td>\n",
              "      <td>0.004798</td>\n",
              "      <td>0.133935</td>\n",
              "      <td>-0.006750</td>\n",
              "      <td>...</td>\n",
              "      <td>-0.000243</td>\n",
              "      <td>0.009306</td>\n",
              "      <td>0.000087</td>\n",
              "      <td>1.000000</td>\n",
              "      <td>0.860215</td>\n",
              "      <td>0.943739</td>\n",
              "      <td>0.000000</td>\n",
              "      <td>0.000000</td>\n",
              "      <td>0.975610</td>\n",
              "      <td>51</td>\n",
              "    </tr>\n",
              "    <tr>\n",
              "      <th>6479</th>\n",
              "      <td>0.034741</td>\n",
              "      <td>0.249940</td>\n",
              "      <td>0.421155</td>\n",
              "      <td>0.462863</td>\n",
              "      <td>0.392526</td>\n",
              "      <td>0.000000</td>\n",
              "      <td>0.000000</td>\n",
              "      <td>0.030944</td>\n",
              "      <td>0.161029</td>\n",
              "      <td>-0.068421</td>\n",
              "      <td>...</td>\n",
              "      <td>0.002685</td>\n",
              "      <td>0.018482</td>\n",
              "      <td>0.000342</td>\n",
              "      <td>1.000000</td>\n",
              "      <td>0.860215</td>\n",
              "      <td>0.943739</td>\n",
              "      <td>0.000000</td>\n",
              "      <td>0.000000</td>\n",
              "      <td>0.975610</td>\n",
              "      <td>53</td>\n",
              "    </tr>\n",
              "    <tr>\n",
              "      <th>39</th>\n",
              "      <td>0.080271</td>\n",
              "      <td>0.253895</td>\n",
              "      <td>0.510652</td>\n",
              "      <td>0.724922</td>\n",
              "      <td>0.429636</td>\n",
              "      <td>0.000000</td>\n",
              "      <td>0.000000</td>\n",
              "      <td>0.009380</td>\n",
              "      <td>0.122974</td>\n",
              "      <td>-0.096867</td>\n",
              "      <td>...</td>\n",
              "      <td>0.000560</td>\n",
              "      <td>0.007207</td>\n",
              "      <td>0.000052</td>\n",
              "      <td>0.062745</td>\n",
              "      <td>0.168670</td>\n",
              "      <td>0.172760</td>\n",
              "      <td>0.097554</td>\n",
              "      <td>0.009515</td>\n",
              "      <td>0.175992</td>\n",
              "      <td>0</td>\n",
              "    </tr>\n",
              "  </tbody>\n",
              "</table>\n",
              "<p>5 rows × 34 columns</p>\n",
              "</div>"
            ],
            "text/plain": [
              "             1         2         3         4         5         6         7  \\\n",
              "2595  0.042055  0.373291  0.462234  0.672240  0.460185  0.000000  0.000000   \n",
              "3984  0.038581  0.480622  0.728615  0.953126  0.664928  0.034667  0.024510   \n",
              "6137  0.068385  0.357468  0.628147  0.658977  0.675978  0.045326  0.029412   \n",
              "6479  0.034741  0.249940  0.421155  0.462863  0.392526  0.000000  0.000000   \n",
              "39    0.080271  0.253895  0.510652  0.724922  0.429636  0.000000  0.000000   \n",
              "\n",
              "             8         9        10  ...        25        26        27  \\\n",
              "2595  0.007363  0.181142 -0.057993  ...  0.000146  0.017546  0.000308   \n",
              "3984  0.003954  0.307242 -0.252209  ... -0.022077  0.034743  0.001207   \n",
              "6137  0.004798  0.133935 -0.006750  ... -0.000243  0.009306  0.000087   \n",
              "6479  0.030944  0.161029 -0.068421  ...  0.002685  0.018482  0.000342   \n",
              "39    0.009380  0.122974 -0.096867  ...  0.000560  0.007207  0.000052   \n",
              "\n",
              "            28        29        30        31        32        33  Label  \n",
              "2595  0.176471  0.182163  0.180288  0.031583  0.000997  0.187470     21  \n",
              "3984  1.000000  0.860215  0.943739  0.000000  0.000000  0.975610     33  \n",
              "6137  1.000000  0.860215  0.943739  0.000000  0.000000  0.975610     51  \n",
              "6479  1.000000  0.860215  0.943739  0.000000  0.000000  0.975610     53  \n",
              "39    0.062745  0.168670  0.172760  0.097554  0.009515  0.175992      0  \n",
              "\n",
              "[5 rows x 34 columns]"
            ]
          },
          "execution_count": 43,
          "metadata": {},
          "output_type": "execute_result"
        }
      ],
      "source": [
        "#valid test data\n",
        "import csv\n",
        "import pandas as pd\n",
        "testdataset=pd.read_csv('Dataset/SwipeDatatest.csv',index_col=0)\n",
        "testdataset = testdataset[testdataset['Label'] < 68]\n",
        "Xtest=testdataset.drop(columns=['Label'])\n",
        "ytest=testdataset['Label']\n",
        "ytest = to_categorical(ytest)\n",
        "\n",
        "testdataset.head()\n",
        "#Xtest.head()"
      ]
    },
    {
      "cell_type": "code",
      "execution_count": 44,
      "metadata": {
        "colab": {
          "base_uri": "https://localhost:8080/"
        },
        "id": "60OnWGGQ7K-b",
        "outputId": "6d91f20a-176b-410c-e2a5-ec3d3b15465f"
      },
      "outputs": [
        {
          "name": "stdout",
          "output_type": "stream",
          "text": [
            "52/52 [==============================] - 1s 4ms/step - loss: 0.6762 - accuracy: 0.8170\n",
            "Loss: 0.6761940121650696\n",
            "Accuracy: 0.8169615864753723\n"
          ]
        }
      ],
      "source": [
        "#Performance of the classifier for valid test data\n",
        "Classfier2.compile(loss='categorical_crossentropy', optimizer=Adam(),metrics=['accuracy'])\n",
        "loss, accuracy = Classfier2.evaluate(Xtest, ytest)\n",
        "#print('Test score:', score)\n",
        "print('Loss:', loss)\n",
        "print('Accuracy:', accuracy)"
      ]
    },
    {
      "cell_type": "code",
      "execution_count": 45,
      "metadata": {},
      "outputs": [
        {
          "name": "stdout",
          "output_type": "stream",
          "text": [
            "<class 'pandas.core.frame.DataFrame'>\n"
          ]
        }
      ],
      "source": [
        "#invalid test data\n",
        "import csv\n",
        "import pandas as pd\n",
        "testdataset=pd.read_csv('Dataset/SwipeDatatest.csv',index_col=0)\n",
        "testdataset = testdataset[testdataset['Label'] >= 68]\n",
        "Xtest=testdataset.drop(columns=['Label'])\n",
        "ytest = np.random.randint(0, 68, size=Xtest.shape[0])\n",
        "ytest = pd.DataFrame(ytest, columns=['random_numbers'])\n",
        "#ytest=testdataset['Label']\n",
        "print(type(ytest))\n",
        "ytest = to_categorical(ytest)\n",
        "\n",
        "#testdataset.head()\n",
        "#Xtest.head()"
      ]
    },
    {
      "cell_type": "code",
      "execution_count": 31,
      "metadata": {},
      "outputs": [
        {
          "name": "stdout",
          "output_type": "stream",
          "text": [
            "14/14 [==============================] - 0s 2ms/step - loss: 14.3318 - accuracy: 0.0094\n",
            "Loss: 14.331758499145508\n",
            "Accuracy: 0.009411764331161976\n"
          ]
        }
      ],
      "source": [
        "#Performance of the classifier for valid test data\n",
        "Classfier2.compile(loss='categorical_crossentropy', optimizer=Adam(),metrics=['accuracy'])\n",
        "loss, accuracy = Classfier2.evaluate(Xtest, ytest)\n",
        "#print('Test score:', score)\n",
        "print('Loss:', loss)\n",
        "print('Accuracy:', accuracy)"
      ]
    }
  ],
  "metadata": {
    "accelerator": "GPU",
    "colab": {
      "gpuType": "T4",
      "provenance": []
    },
    "kernelspec": {
      "display_name": "Python 3",
      "name": "python3"
    },
    "language_info": {
      "codemirror_mode": {
        "name": "ipython",
        "version": 3
      },
      "file_extension": ".py",
      "mimetype": "text/x-python",
      "name": "python",
      "nbconvert_exporter": "python",
      "pygments_lexer": "ipython3",
      "version": "3.11.5"
    },
    "orig_nbformat": 4
  },
  "nbformat": 4,
  "nbformat_minor": 0
}
